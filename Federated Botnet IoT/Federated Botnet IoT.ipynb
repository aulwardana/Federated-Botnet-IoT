{
 "cells": [
  {
   "cell_type": "code",
   "execution_count": 1,
   "id": "8370848f",
   "metadata": {},
   "outputs": [],
   "source": [
    "import pandas as pd\n",
    "import numpy as np"
   ]
  },
  {
   "cell_type": "code",
   "execution_count": 2,
   "id": "264d7975",
   "metadata": {},
   "outputs": [],
   "source": [
    "N1_D1_train = pd.read_csv('/home/administrator/dataset/NBaIoT/Danmini_Doorbell/Danmini_Doorbell_train.csv')"
   ]
  },
  {
   "cell_type": "code",
   "execution_count": 3,
   "id": "2b813189",
   "metadata": {},
   "outputs": [],
   "source": [
    "N1_D1_test = pd.read_csv('/home/administrator/dataset/NBaIoT/Danmini_Doorbell/Danmini_Doorbell_test.csv')"
   ]
  },
  {
   "cell_type": "code",
   "execution_count": 4,
   "id": "90dd6700",
   "metadata": {},
   "outputs": [],
   "source": [
    "N1_D2_train = pd.read_csv('/home/administrator/dataset/NBaIoT/Ecobee_Thermostat/Ecobee_Thermostat_train.csv')"
   ]
  },
  {
   "cell_type": "code",
   "execution_count": 5,
   "id": "47582381",
   "metadata": {},
   "outputs": [],
   "source": [
    "N1_D2_test = pd.read_csv('/home/administrator/dataset/NBaIoT/Ecobee_Thermostat/Ecobee_Thermostat_test.csv')"
   ]
  },
  {
   "cell_type": "code",
   "execution_count": 6,
   "id": "39822e51",
   "metadata": {},
   "outputs": [],
   "source": [
    "N1_D3_train = pd.read_csv('/home/administrator/dataset/NBaIoT/Ennio_Doorbell/Ennio_Doorbell_train.csv')"
   ]
  },
  {
   "cell_type": "code",
   "execution_count": 7,
   "id": "a841b658",
   "metadata": {},
   "outputs": [],
   "source": [
    "N1_D3_test = pd.read_csv('/home/administrator/dataset/NBaIoT/Ennio_Doorbell/Ennio_Doorbell_test.csv')"
   ]
  },
  {
   "cell_type": "code",
   "execution_count": 8,
   "id": "9bfe435a",
   "metadata": {},
   "outputs": [],
   "source": [
    "N2_D1_train = pd.read_csv('/home/administrator/dataset/NBaIoT/Philips_B120N10_Baby_Monitor/Philips_B120N10_Baby_Monitor_train.csv')"
   ]
  },
  {
   "cell_type": "code",
   "execution_count": 9,
   "id": "dfad0de8",
   "metadata": {},
   "outputs": [],
   "source": [
    "N2_D1_test = pd.read_csv('/home/administrator/dataset/NBaIoT/Philips_B120N10_Baby_Monitor/Philips_B120N10_Baby_Monitor_test.csv')"
   ]
  },
  {
   "cell_type": "code",
   "execution_count": 10,
   "id": "33e0bd2a",
   "metadata": {},
   "outputs": [],
   "source": [
    "N2_D2_train = pd.read_csv('/home/administrator/dataset/NBaIoT/Provision_PT_737E_Security_Camera/Provision_PT_737E_Security_Camera_train.csv')"
   ]
  },
  {
   "cell_type": "code",
   "execution_count": 11,
   "id": "fbd31b99",
   "metadata": {},
   "outputs": [],
   "source": [
    "N2_D2_test = pd.read_csv('/home/administrator/dataset/NBaIoT/Provision_PT_737E_Security_Camera/Provision_PT_737E_Security_Camera_test.csv')"
   ]
  },
  {
   "cell_type": "code",
   "execution_count": 12,
   "id": "8c2d7f71",
   "metadata": {},
   "outputs": [],
   "source": [
    "N2_D3_train = pd.read_csv('/home/administrator/dataset/NBaIoT/Provision_PT_838_Security_Camera/Provision_PT_838_Security_Camera_train.csv')"
   ]
  },
  {
   "cell_type": "code",
   "execution_count": 13,
   "id": "1d153c48",
   "metadata": {},
   "outputs": [],
   "source": [
    "N2_D3_test = pd.read_csv('/home/administrator/dataset/NBaIoT/Provision_PT_838_Security_Camera/Provision_PT_838_Security_Camera_test.csv')"
   ]
  },
  {
   "cell_type": "code",
   "execution_count": 14,
   "id": "be9e9e9a",
   "metadata": {},
   "outputs": [],
   "source": [
    "N3_D1_train = pd.read_csv('/home/administrator/dataset/NBaIoT/Samsung_SNH_1011_N_Webcam/Samsung_SNH_1011_N_Webcam_train.csv')"
   ]
  },
  {
   "cell_type": "code",
   "execution_count": 15,
   "id": "7bc23f8e",
   "metadata": {},
   "outputs": [],
   "source": [
    "N3_D1_test = pd.read_csv('/home/administrator/dataset/NBaIoT/Samsung_SNH_1011_N_Webcam/Samsung_SNH_1011_N_Webcam_test.csv')"
   ]
  },
  {
   "cell_type": "code",
   "execution_count": 16,
   "id": "41ad4544",
   "metadata": {},
   "outputs": [],
   "source": [
    "N3_D2_train = pd.read_csv('/home/administrator/dataset/NBaIoT/SimpleHome_XCS7_1002_WHT_Security_Camera/SimpleHome_XCS7_1002_WHT_Security_Camera_train.csv')"
   ]
  },
  {
   "cell_type": "code",
   "execution_count": 17,
   "id": "5876aa47",
   "metadata": {},
   "outputs": [],
   "source": [
    "N3_D2_test = pd.read_csv('/home/administrator/dataset/NBaIoT/SimpleHome_XCS7_1002_WHT_Security_Camera/SimpleHome_XCS7_1002_WHT_Security_Camera_test.csv')"
   ]
  },
  {
   "cell_type": "code",
   "execution_count": 18,
   "id": "b676aa74",
   "metadata": {},
   "outputs": [],
   "source": [
    "N3_D3_train = pd.read_csv('/home/administrator/dataset/NBaIoT/SimpleHome_XCS7_1003_WHT_Security_Camera/SimpleHome_XCS7_1003_WHT_Security_Camera_train.csv')"
   ]
  },
  {
   "cell_type": "code",
   "execution_count": 19,
   "id": "9f5a9622",
   "metadata": {},
   "outputs": [],
   "source": [
    "N3_D3_test = pd.read_csv('/home/administrator/dataset/NBaIoT/SimpleHome_XCS7_1003_WHT_Security_Camera/SimpleHome_XCS7_1003_WHT_Security_Camera_test.csv')"
   ]
  },
  {
   "cell_type": "code",
   "execution_count": 20,
   "id": "b00706ee",
   "metadata": {},
   "outputs": [],
   "source": [
    "load_X_N1_D1_train = N1_D1_train.drop([\"Label\"],axis=1)\n",
    "Y_N1_D1_train = N1_D1_train[\"Label\"]"
   ]
  },
  {
   "cell_type": "code",
   "execution_count": 21,
   "id": "2b392d02",
   "metadata": {},
   "outputs": [],
   "source": [
    "load_X_N1_D1_test = N1_D1_test.drop([\"Label\"],axis=1)\n",
    "Y_N1_D1_test = N1_D1_test[\"Label\"]"
   ]
  },
  {
   "cell_type": "code",
   "execution_count": 22,
   "id": "76c345a3",
   "metadata": {},
   "outputs": [],
   "source": [
    "load_X_N1_D2_train = N1_D2_train.drop([\"Label\"],axis=1)\n",
    "Y_N1_D2_train = N1_D2_train[\"Label\"]"
   ]
  },
  {
   "cell_type": "code",
   "execution_count": 23,
   "id": "a827b853",
   "metadata": {},
   "outputs": [],
   "source": [
    "load_X_N1_D2_test = N1_D2_test.drop([\"Label\"],axis=1)\n",
    "Y_N1_D2_test = N1_D2_test[\"Label\"]"
   ]
  },
  {
   "cell_type": "code",
   "execution_count": 24,
   "id": "1d1cf68c",
   "metadata": {},
   "outputs": [],
   "source": [
    "load_X_N1_D3_train = N1_D3_train.drop([\"Label\"],axis=1)\n",
    "Y_N1_D3_train = N1_D3_train[\"Label\"]"
   ]
  },
  {
   "cell_type": "code",
   "execution_count": 25,
   "id": "a2d450de",
   "metadata": {},
   "outputs": [],
   "source": [
    "load_X_N1_D3_test = N1_D3_test.drop([\"Label\"],axis=1)\n",
    "Y_N1_D3_test = N1_D3_test[\"Label\"]"
   ]
  },
  {
   "cell_type": "code",
   "execution_count": 26,
   "id": "073bfdf6",
   "metadata": {},
   "outputs": [],
   "source": [
    "load_X_N2_D1_train = N2_D1_train.drop([\"Label\"],axis=1)\n",
    "Y_N2_D1_train = N2_D1_train[\"Label\"]"
   ]
  },
  {
   "cell_type": "code",
   "execution_count": 27,
   "id": "30e1999c",
   "metadata": {},
   "outputs": [],
   "source": [
    "load_X_N2_D1_test = N2_D1_test.drop([\"Label\"],axis=1)\n",
    "Y_N2_D1_test = N2_D1_test[\"Label\"]"
   ]
  },
  {
   "cell_type": "code",
   "execution_count": 28,
   "id": "6f9cf0e8",
   "metadata": {},
   "outputs": [],
   "source": [
    "load_X_N2_D2_train = N2_D2_train.drop([\"Label\"],axis=1)\n",
    "Y_N2_D2_train = N2_D2_train[\"Label\"]"
   ]
  },
  {
   "cell_type": "code",
   "execution_count": 29,
   "id": "1227bebf",
   "metadata": {},
   "outputs": [],
   "source": [
    "load_X_N2_D2_test = N2_D2_test.drop([\"Label\"],axis=1)\n",
    "Y_N2_D2_test = N2_D2_test[\"Label\"]"
   ]
  },
  {
   "cell_type": "code",
   "execution_count": 30,
   "id": "929cf654",
   "metadata": {},
   "outputs": [],
   "source": [
    "load_X_N2_D3_train = N2_D3_train.drop([\"Label\"],axis=1)\n",
    "Y_N2_D3_train = N2_D3_train[\"Label\"]"
   ]
  },
  {
   "cell_type": "code",
   "execution_count": 31,
   "id": "3c46d48c",
   "metadata": {},
   "outputs": [],
   "source": [
    "load_X_N2_D3_test = N2_D3_test.drop([\"Label\"],axis=1)\n",
    "Y_N2_D3_test = N2_D3_test[\"Label\"]"
   ]
  },
  {
   "cell_type": "code",
   "execution_count": 32,
   "id": "8cc579dc",
   "metadata": {},
   "outputs": [],
   "source": [
    "load_X_N3_D1_train = N3_D1_train.drop([\"Label\"],axis=1)\n",
    "Y_N3_D1_train = N3_D1_train[\"Label\"]"
   ]
  },
  {
   "cell_type": "code",
   "execution_count": 33,
   "id": "642fb41d",
   "metadata": {},
   "outputs": [],
   "source": [
    "load_X_N3_D1_test = N3_D1_test.drop([\"Label\"],axis=1)\n",
    "Y_N3_D1_test = N3_D1_test[\"Label\"]"
   ]
  },
  {
   "cell_type": "code",
   "execution_count": 34,
   "id": "09597cfc",
   "metadata": {},
   "outputs": [],
   "source": [
    "load_X_N3_D2_train = N3_D2_train.drop([\"Label\"],axis=1)\n",
    "Y_N3_D2_train = N3_D2_train[\"Label\"]"
   ]
  },
  {
   "cell_type": "code",
   "execution_count": 35,
   "id": "544f3f7d",
   "metadata": {},
   "outputs": [],
   "source": [
    "load_X_N3_D2_test = N3_D2_test.drop([\"Label\"],axis=1)\n",
    "Y_N3_D2_test = N3_D2_test[\"Label\"]"
   ]
  },
  {
   "cell_type": "code",
   "execution_count": 36,
   "id": "137dd9b4",
   "metadata": {},
   "outputs": [],
   "source": [
    "load_X_N3_D3_train = N3_D3_train.drop([\"Label\"],axis=1)\n",
    "Y_N3_D3_train = N3_D3_train[\"Label\"]"
   ]
  },
  {
   "cell_type": "code",
   "execution_count": 37,
   "id": "dcc488bd",
   "metadata": {},
   "outputs": [],
   "source": [
    "load_X_N3_D3_test = N3_D3_test.drop([\"Label\"],axis=1)\n",
    "Y_N3_D3_test = N3_D3_test[\"Label\"]"
   ]
  },
  {
   "cell_type": "code",
   "execution_count": 38,
   "id": "b75e1b35",
   "metadata": {},
   "outputs": [],
   "source": [
    "from sklearn.preprocessing import StandardScaler"
   ]
  },
  {
   "cell_type": "code",
   "execution_count": 39,
   "id": "12e7ea37",
   "metadata": {},
   "outputs": [],
   "source": [
    "scaler_N1_D1 = StandardScaler()"
   ]
  },
  {
   "cell_type": "code",
   "execution_count": 40,
   "id": "8a55fe67",
   "metadata": {},
   "outputs": [],
   "source": [
    "X_N1_D1_train = scaler_N1_D1.fit_transform(load_X_N1_D1_train)"
   ]
  },
  {
   "cell_type": "code",
   "execution_count": 41,
   "id": "ab83e194",
   "metadata": {},
   "outputs": [],
   "source": [
    "X_N1_D1_test = scaler_N1_D1.fit_transform(load_X_N1_D1_test)"
   ]
  },
  {
   "cell_type": "code",
   "execution_count": 42,
   "id": "034e27e2",
   "metadata": {},
   "outputs": [],
   "source": [
    "scaler_N1_D2 = StandardScaler()"
   ]
  },
  {
   "cell_type": "code",
   "execution_count": 43,
   "id": "37536188",
   "metadata": {},
   "outputs": [],
   "source": [
    "X_N1_D2_train = scaler_N1_D2.fit_transform(load_X_N1_D2_train)"
   ]
  },
  {
   "cell_type": "code",
   "execution_count": 44,
   "id": "4d379c3e",
   "metadata": {},
   "outputs": [],
   "source": [
    "X_N1_D2_test = scaler_N1_D2.fit_transform(load_X_N1_D2_test)"
   ]
  },
  {
   "cell_type": "code",
   "execution_count": 45,
   "id": "9a9fd640",
   "metadata": {},
   "outputs": [],
   "source": [
    "scaler_N1_D3 = StandardScaler()"
   ]
  },
  {
   "cell_type": "code",
   "execution_count": 46,
   "id": "cc332189",
   "metadata": {},
   "outputs": [],
   "source": [
    "X_N1_D3_train = scaler_N1_D3.fit_transform(load_X_N1_D3_train)"
   ]
  },
  {
   "cell_type": "code",
   "execution_count": 47,
   "id": "208d598e",
   "metadata": {},
   "outputs": [],
   "source": [
    "X_N1_D3_test = scaler_N1_D3.fit_transform(load_X_N1_D3_test)"
   ]
  },
  {
   "cell_type": "code",
   "execution_count": 48,
   "id": "a80a69ff",
   "metadata": {},
   "outputs": [],
   "source": [
    "scaler_N2_D1 = StandardScaler()"
   ]
  },
  {
   "cell_type": "code",
   "execution_count": 49,
   "id": "358f6207",
   "metadata": {},
   "outputs": [],
   "source": [
    "X_N2_D1_train = scaler_N2_D1.fit_transform(load_X_N2_D1_train)"
   ]
  },
  {
   "cell_type": "code",
   "execution_count": 50,
   "id": "046c1be9",
   "metadata": {},
   "outputs": [],
   "source": [
    "X_N2_D1_test = scaler_N2_D1.fit_transform(load_X_N2_D1_test)"
   ]
  },
  {
   "cell_type": "code",
   "execution_count": 51,
   "id": "8af9da3c",
   "metadata": {},
   "outputs": [],
   "source": [
    "scaler_N2_D2 = StandardScaler()"
   ]
  },
  {
   "cell_type": "code",
   "execution_count": 52,
   "id": "a5992fb9",
   "metadata": {},
   "outputs": [],
   "source": [
    "X_N2_D2_train = scaler_N2_D2.fit_transform(load_X_N2_D2_train)"
   ]
  },
  {
   "cell_type": "code",
   "execution_count": 53,
   "id": "07ff7774",
   "metadata": {},
   "outputs": [],
   "source": [
    "X_N2_D2_test = scaler_N2_D2.fit_transform(load_X_N2_D2_test)"
   ]
  },
  {
   "cell_type": "code",
   "execution_count": 54,
   "id": "c3e2e313",
   "metadata": {},
   "outputs": [],
   "source": [
    "scaler_N2_D3 = StandardScaler()"
   ]
  },
  {
   "cell_type": "code",
   "execution_count": 55,
   "id": "36d28587",
   "metadata": {},
   "outputs": [],
   "source": [
    "X_N2_D3_train = scaler_N2_D3.fit_transform(load_X_N2_D3_train)"
   ]
  },
  {
   "cell_type": "code",
   "execution_count": 56,
   "id": "05e2b38d",
   "metadata": {},
   "outputs": [],
   "source": [
    "X_N2_D3_test = scaler_N2_D3.fit_transform(load_X_N2_D3_test)"
   ]
  },
  {
   "cell_type": "code",
   "execution_count": 57,
   "id": "88b794c6",
   "metadata": {},
   "outputs": [],
   "source": [
    "scaler_N3_D1 = StandardScaler()"
   ]
  },
  {
   "cell_type": "code",
   "execution_count": 58,
   "id": "616a0ee9",
   "metadata": {},
   "outputs": [],
   "source": [
    "X_N3_D1_train = scaler_N3_D1.fit_transform(load_X_N3_D1_train)"
   ]
  },
  {
   "cell_type": "code",
   "execution_count": 59,
   "id": "7865c812",
   "metadata": {},
   "outputs": [],
   "source": [
    "X_N3_D1_test = scaler_N3_D1.fit_transform(load_X_N3_D1_test)"
   ]
  },
  {
   "cell_type": "code",
   "execution_count": 60,
   "id": "c37e2058",
   "metadata": {},
   "outputs": [],
   "source": [
    "scaler_N3_D2 = StandardScaler()"
   ]
  },
  {
   "cell_type": "code",
   "execution_count": 61,
   "id": "bcbf6f61",
   "metadata": {},
   "outputs": [],
   "source": [
    "X_N3_D2_train = scaler_N3_D2.fit_transform(load_X_N3_D2_train)"
   ]
  },
  {
   "cell_type": "code",
   "execution_count": 62,
   "id": "a6e539cd",
   "metadata": {},
   "outputs": [],
   "source": [
    "X_N3_D2_test = scaler_N3_D2.fit_transform(load_X_N3_D2_test)"
   ]
  },
  {
   "cell_type": "code",
   "execution_count": 63,
   "id": "7b3a67fe",
   "metadata": {},
   "outputs": [],
   "source": [
    "scaler_N3_D3 = StandardScaler()"
   ]
  },
  {
   "cell_type": "code",
   "execution_count": 64,
   "id": "561bbdf1",
   "metadata": {},
   "outputs": [],
   "source": [
    "X_N3_D3_train = scaler_N3_D3.fit_transform(load_X_N3_D3_train)"
   ]
  },
  {
   "cell_type": "code",
   "execution_count": 65,
   "id": "77b37121",
   "metadata": {},
   "outputs": [],
   "source": [
    "X_N3_D3_test = scaler_N3_D3.fit_transform(load_X_N3_D3_test)"
   ]
  },
  {
   "cell_type": "code",
   "execution_count": 66,
   "id": "1535ae92",
   "metadata": {},
   "outputs": [
    {
     "name": "stderr",
     "output_type": "stream",
     "text": [
      "2024-01-24 15:34:29.562941: I tensorflow/tsl/cuda/cudart_stub.cc:28] Could not find cuda drivers on your machine, GPU will not be used.\n",
      "2024-01-24 15:34:29.617419: I tensorflow/tsl/cuda/cudart_stub.cc:28] Could not find cuda drivers on your machine, GPU will not be used.\n",
      "2024-01-24 15:34:29.618772: I tensorflow/core/platform/cpu_feature_guard.cc:182] This TensorFlow binary is optimized to use available CPU instructions in performance-critical operations.\n",
      "To enable the following instructions: AVX2 FMA, in other operations, rebuild TensorFlow with the appropriate compiler flags.\n",
      "2024-01-24 15:34:30.584281: W tensorflow/compiler/tf2tensorrt/utils/py_utils.cc:38] TF-TRT Warning: Could not find TensorRT\n"
     ]
    }
   ],
   "source": [
    "from keras.models import Sequential\n",
    "from keras.layers import Dense\n",
    "from keras.metrics import Recall, Precision\n",
    "\n",
    "from statistics import mean "
   ]
  },
  {
   "cell_type": "code",
   "execution_count": 67,
   "id": "d4ed6628",
   "metadata": {},
   "outputs": [],
   "source": [
    "def create_linear_model():\n",
    "    model = Sequential()\n",
    "    model.add(Dense(11, input_dim=115, activation='relu'))\n",
    "    model.add(Dense(9, activation='relu'))\n",
    "    model.add(Dense(7, activation='relu'))\n",
    "    model.add(Dense(5, activation='relu'))\n",
    "    model.add(Dense(1, activation='sigmoid'))\n",
    "    model.compile(loss='mean_squared_error', optimizer='sgd', metrics=['accuracy', Recall(), Precision()])\n",
    "    return model"
   ]
  },
  {
   "cell_type": "code",
   "execution_count": 68,
   "id": "75f3454b",
   "metadata": {},
   "outputs": [],
   "source": [
    "#global model\n",
    "global_model = create_linear_model()"
   ]
  },
  {
   "cell_type": "code",
   "execution_count": 69,
   "id": "d70cdc33",
   "metadata": {},
   "outputs": [],
   "source": [
    "N1_D1_model = create_linear_model()\n",
    "N1_D1_model.set_weights(global_model.get_weights())"
   ]
  },
  {
   "cell_type": "code",
   "execution_count": 70,
   "id": "692f11d8",
   "metadata": {},
   "outputs": [
    {
     "name": "stdout",
     "output_type": "stream",
     "text": [
      "Epoch 1/10\n",
      "713/713 [==============================] - 3s 4ms/step - loss: 0.0446 - accuracy: 0.9515 - recall_1: 1.0000 - precision_1: 0.9515\n",
      "Epoch 2/10\n",
      "713/713 [==============================] - 2s 3ms/step - loss: 0.0185 - accuracy: 0.9549 - recall_1: 0.9999 - precision_1: 0.9548\n",
      "Epoch 3/10\n",
      "713/713 [==============================] - 2s 3ms/step - loss: 0.0127 - accuracy: 0.9905 - recall_1: 0.9998 - precision_1: 0.9902\n",
      "Epoch 4/10\n",
      "713/713 [==============================] - 2s 3ms/step - loss: 0.0093 - accuracy: 0.9979 - recall_1: 0.9997 - precision_1: 0.9982\n",
      "Epoch 5/10\n",
      "713/713 [==============================] - 3s 4ms/step - loss: 0.0062 - accuracy: 0.9989 - recall_1: 0.9996 - precision_1: 0.9993\n",
      "Epoch 6/10\n",
      "713/713 [==============================] - 2s 3ms/step - loss: 0.0038 - accuracy: 0.9990 - recall_1: 0.9995 - precision_1: 0.9995\n",
      "Epoch 7/10\n",
      "713/713 [==============================] - 2s 3ms/step - loss: 0.0025 - accuracy: 0.9990 - recall_1: 0.9995 - precision_1: 0.9995\n",
      "Epoch 8/10\n",
      "713/713 [==============================] - 3s 4ms/step - loss: 0.0018 - accuracy: 0.9990 - recall_1: 0.9994 - precision_1: 0.9995\n",
      "Epoch 9/10\n",
      "713/713 [==============================] - 2s 3ms/step - loss: 0.0015 - accuracy: 0.9990 - recall_1: 0.9995 - precision_1: 0.9995\n",
      "Epoch 10/10\n",
      "713/713 [==============================] - 2s 3ms/step - loss: 0.0013 - accuracy: 0.9990 - recall_1: 0.9995 - precision_1: 0.9995\n"
     ]
    },
    {
     "data": {
      "text/plain": [
       "<keras.src.callbacks.History at 0x7fd0685bcca0>"
      ]
     },
     "execution_count": 70,
     "metadata": {},
     "output_type": "execute_result"
    }
   ],
   "source": [
    "N1_D1_model.fit(X_N1_D1_train, Y_N1_D1_train, epochs=10, batch_size=1000, verbose=1)"
   ]
  },
  {
   "cell_type": "code",
   "execution_count": 71,
   "id": "fb21ff76",
   "metadata": {},
   "outputs": [
    {
     "name": "stdout",
     "output_type": "stream",
     "text": [
      ">Saved models/model_fed_N1_D1.h5\n"
     ]
    },
    {
     "name": "stderr",
     "output_type": "stream",
     "text": [
      "/usr/local/lib/python3.10/dist-packages/keras/src/engine/training.py:3000: UserWarning: You are saving your model as an HDF5 file via `model.save()`. This file format is considered legacy. We recommend using instead the native Keras format, e.g. `model.save('my_model.keras')`.\n",
      "  saving_api.save_model(\n"
     ]
    }
   ],
   "source": [
    "filename_N1_D1 = 'models/model_fed_N1_D1.h5'\n",
    "N1_D1_model.save(filename_N1_D1)\n",
    "print('>Saved %s' % filename_N1_D1)"
   ]
  },
  {
   "cell_type": "code",
   "execution_count": 72,
   "id": "a2455bde",
   "metadata": {},
   "outputs": [],
   "source": [
    "N1_D2_model = create_linear_model()\n",
    "N1_D2_model.set_weights(global_model.get_weights())"
   ]
  },
  {
   "cell_type": "code",
   "execution_count": 73,
   "id": "4f336c7a",
   "metadata": {},
   "outputs": [
    {
     "name": "stdout",
     "output_type": "stream",
     "text": [
      "Epoch 1/10\n",
      "586/586 [==============================] - 3s 3ms/step - loss: 0.0349 - accuracy: 0.9843 - recall_2: 1.0000 - precision_2: 0.9843\n",
      "Epoch 2/10\n",
      "586/586 [==============================] - 2s 3ms/step - loss: 0.0142 - accuracy: 0.9843 - recall_2: 1.0000 - precision_2: 0.9843\n",
      "Epoch 3/10\n",
      "586/586 [==============================] - 2s 3ms/step - loss: 0.0126 - accuracy: 0.9843 - recall_2: 1.0000 - precision_2: 0.9843\n",
      "Epoch 4/10\n",
      "586/586 [==============================] - 2s 3ms/step - loss: 0.0116 - accuracy: 0.9843 - recall_2: 1.0000 - precision_2: 0.9843\n",
      "Epoch 5/10\n",
      "586/586 [==============================] - 2s 3ms/step - loss: 0.0107 - accuracy: 0.9843 - recall_2: 1.0000 - precision_2: 0.9843\n",
      "Epoch 6/10\n",
      "586/586 [==============================] - 2s 3ms/step - loss: 0.0096 - accuracy: 0.9843 - recall_2: 1.0000 - precision_2: 0.9843\n",
      "Epoch 7/10\n",
      "586/586 [==============================] - 2s 3ms/step - loss: 0.0086 - accuracy: 0.9843 - recall_2: 1.0000 - precision_2: 0.9843\n",
      "Epoch 8/10\n",
      "586/586 [==============================] - 2s 3ms/step - loss: 0.0078 - accuracy: 0.9844 - recall_2: 1.0000 - precision_2: 0.9844\n",
      "Epoch 9/10\n",
      "586/586 [==============================] - 2s 3ms/step - loss: 0.0069 - accuracy: 0.9859 - recall_2: 1.0000 - precision_2: 0.9859\n",
      "Epoch 10/10\n",
      "586/586 [==============================] - 2s 4ms/step - loss: 0.0061 - accuracy: 0.9891 - recall_2: 1.0000 - precision_2: 0.9891\n"
     ]
    },
    {
     "data": {
      "text/plain": [
       "<keras.src.callbacks.History at 0x7fd0502b2650>"
      ]
     },
     "execution_count": 73,
     "metadata": {},
     "output_type": "execute_result"
    }
   ],
   "source": [
    "N1_D2_model.fit(X_N1_D2_train, Y_N1_D2_train, epochs=10, batch_size=1000, verbose=1)"
   ]
  },
  {
   "cell_type": "code",
   "execution_count": 74,
   "id": "e282b1e7",
   "metadata": {},
   "outputs": [
    {
     "name": "stdout",
     "output_type": "stream",
     "text": [
      ">Saved models/model_fed_N1_D2.h5\n"
     ]
    }
   ],
   "source": [
    "filename_N1_D2 = 'models/model_fed_N1_D2.h5'\n",
    "N1_D2_model.save(filename_N1_D2)\n",
    "print('>Saved %s' % filename_N1_D2)"
   ]
  },
  {
   "cell_type": "code",
   "execution_count": 75,
   "id": "510f1e7c",
   "metadata": {},
   "outputs": [],
   "source": [
    "N1_D3_model = create_linear_model()\n",
    "N1_D3_model.set_weights(global_model.get_weights())"
   ]
  },
  {
   "cell_type": "code",
   "execution_count": 76,
   "id": "79464f20",
   "metadata": {},
   "outputs": [
    {
     "name": "stdout",
     "output_type": "stream",
     "text": [
      "Epoch 1/10\n",
      "249/249 [==============================] - 2s 3ms/step - loss: 0.1111 - accuracy: 0.8906 - recall_3: 0.9999 - precision_3: 0.8907\n",
      "Epoch 2/10\n",
      "249/249 [==============================] - 1s 4ms/step - loss: 0.0609 - accuracy: 0.8906 - recall_3: 0.9999 - precision_3: 0.8907\n",
      "Epoch 3/10\n",
      "249/249 [==============================] - 1s 4ms/step - loss: 0.0499 - accuracy: 0.8906 - recall_3: 0.9999 - precision_3: 0.8907\n",
      "Epoch 4/10\n",
      "249/249 [==============================] - 1s 3ms/step - loss: 0.0425 - accuracy: 0.8906 - recall_3: 0.9998 - precision_3: 0.8907\n",
      "Epoch 5/10\n",
      "249/249 [==============================] - 1s 3ms/step - loss: 0.0368 - accuracy: 0.9098 - recall_3: 0.9997 - precision_3: 0.9082\n",
      "Epoch 6/10\n",
      "249/249 [==============================] - 1s 3ms/step - loss: 0.0328 - accuracy: 0.9669 - recall_3: 0.9994 - precision_3: 0.9647\n",
      "Epoch 7/10\n",
      "249/249 [==============================] - 1s 4ms/step - loss: 0.0298 - accuracy: 0.9782 - recall_3: 0.9993 - precision_3: 0.9768\n",
      "Epoch 8/10\n",
      "249/249 [==============================] - 1s 3ms/step - loss: 0.0274 - accuracy: 0.9869 - recall_3: 0.9991 - precision_3: 0.9864\n",
      "Epoch 9/10\n",
      "249/249 [==============================] - 1s 4ms/step - loss: 0.0252 - accuracy: 0.9936 - recall_3: 0.9989 - precision_3: 0.9940\n",
      "Epoch 10/10\n",
      "249/249 [==============================] - 1s 4ms/step - loss: 0.0233 - accuracy: 0.9947 - recall_3: 0.9987 - precision_3: 0.9955\n"
     ]
    },
    {
     "data": {
      "text/plain": [
       "<keras.src.callbacks.History at 0x7fd034606e00>"
      ]
     },
     "execution_count": 76,
     "metadata": {},
     "output_type": "execute_result"
    }
   ],
   "source": [
    "N1_D3_model.fit(X_N1_D3_train, Y_N1_D3_train, epochs=10, batch_size=1000, verbose=1)"
   ]
  },
  {
   "cell_type": "code",
   "execution_count": 77,
   "id": "56c3203e",
   "metadata": {},
   "outputs": [
    {
     "name": "stdout",
     "output_type": "stream",
     "text": [
      ">Saved models/model_fed_N1_D3.h5\n"
     ]
    }
   ],
   "source": [
    "filename_N1_D3 = 'models/model_fed_N1_D3.h5'\n",
    "N1_D3_model.save(filename_N1_D3)\n",
    "print('>Saved %s' % filename_N1_D3)"
   ]
  },
  {
   "cell_type": "code",
   "execution_count": 78,
   "id": "ed94c238",
   "metadata": {},
   "outputs": [],
   "source": [
    "avg_weights_N1 = []\n",
    "for weights1, weights2, weights3 in zip(N1_D1_model.get_weights(), N1_D2_model.get_weights(), N1_D3_model.get_weights()):\n",
    "    avg_weights_N1.append((weights1 + weights2 + weights3) / 3)"
   ]
  },
  {
   "cell_type": "code",
   "execution_count": 79,
   "id": "a6cc4fb5",
   "metadata": {},
   "outputs": [],
   "source": [
    "global_model.set_weights(avg_weights_N1)"
   ]
  },
  {
   "cell_type": "code",
   "execution_count": 80,
   "id": "98d84544",
   "metadata": {},
   "outputs": [],
   "source": [
    "N2_D1_model = create_linear_model()\n",
    "N2_D1_model.set_weights(global_model.get_weights())"
   ]
  },
  {
   "cell_type": "code",
   "execution_count": 81,
   "id": "dc9266c9",
   "metadata": {},
   "outputs": [
    {
     "name": "stdout",
     "output_type": "stream",
     "text": [
      "Epoch 1/10\n",
      "770/770 [==============================] - 3s 3ms/step - loss: 0.0187 - accuracy: 0.9885 - recall_4: 0.9992 - precision_4: 0.9872\n",
      "Epoch 2/10\n",
      "770/770 [==============================] - 3s 4ms/step - loss: 0.0064 - accuracy: 0.9950 - recall_4: 0.9988 - precision_4: 0.9952\n",
      "Epoch 3/10\n",
      "770/770 [==============================] - 3s 4ms/step - loss: 0.0039 - accuracy: 0.9965 - recall_4: 0.9988 - precision_4: 0.9971\n",
      "Epoch 4/10\n",
      "770/770 [==============================] - 3s 3ms/step - loss: 0.0029 - accuracy: 0.9972 - recall_4: 0.9988 - precision_4: 0.9979\n",
      "Epoch 5/10\n",
      "770/770 [==============================] - 3s 3ms/step - loss: 0.0024 - accuracy: 0.9976 - recall_4: 0.9990 - precision_4: 0.9982\n",
      "Epoch 6/10\n",
      "770/770 [==============================] - 3s 3ms/step - loss: 0.0021 - accuracy: 0.9980 - recall_4: 0.9992 - precision_4: 0.9984\n",
      "Epoch 7/10\n",
      "770/770 [==============================] - 3s 3ms/step - loss: 0.0019 - accuracy: 0.9981 - recall_4: 0.9992 - precision_4: 0.9985\n",
      "Epoch 8/10\n",
      "770/770 [==============================] - 3s 3ms/step - loss: 0.0018 - accuracy: 0.9982 - recall_4: 0.9993 - precision_4: 0.9986\n",
      "Epoch 9/10\n",
      "770/770 [==============================] - 3s 3ms/step - loss: 0.0018 - accuracy: 0.9982 - recall_4: 0.9993 - precision_4: 0.9986\n",
      "Epoch 10/10\n",
      "770/770 [==============================] - 3s 3ms/step - loss: 0.0017 - accuracy: 0.9983 - recall_4: 0.9993 - precision_4: 0.9986\n"
     ]
    },
    {
     "data": {
      "text/plain": [
       "<keras.src.callbacks.History at 0x7fd03446e620>"
      ]
     },
     "execution_count": 81,
     "metadata": {},
     "output_type": "execute_result"
    }
   ],
   "source": [
    "N2_D1_model.fit(X_N2_D1_train, Y_N2_D1_train, epochs=10, batch_size=1000, verbose=1)"
   ]
  },
  {
   "cell_type": "code",
   "execution_count": 82,
   "id": "c187ba3b",
   "metadata": {},
   "outputs": [
    {
     "name": "stdout",
     "output_type": "stream",
     "text": [
      ">Saved models/model_fed_N2_D1.h5\n"
     ]
    }
   ],
   "source": [
    "filename_N2_D1 = 'models/model_fed_N2_D1.h5'\n",
    "N2_D1_model.save(filename_N2_D1)\n",
    "print('>Saved %s' % filename_N2_D1)"
   ]
  },
  {
   "cell_type": "code",
   "execution_count": 83,
   "id": "7ff04ad1",
   "metadata": {},
   "outputs": [],
   "source": [
    "N2_D2_model = create_linear_model()\n",
    "N2_D2_model.set_weights(global_model.get_weights())"
   ]
  },
  {
   "cell_type": "code",
   "execution_count": 84,
   "id": "b1ccb89e",
   "metadata": {},
   "outputs": [
    {
     "name": "stdout",
     "output_type": "stream",
     "text": [
      "Epoch 1/10\n",
      "580/580 [==============================] - 3s 3ms/step - loss: 0.0150 - accuracy: 0.9861 - recall_5: 0.9994 - precision_5: 0.9857\n",
      "Epoch 2/10\n",
      "580/580 [==============================] - 2s 3ms/step - loss: 0.0088 - accuracy: 0.9953 - recall_5: 0.9993 - precision_5: 0.9956\n",
      "Epoch 3/10\n",
      "580/580 [==============================] - 2s 3ms/step - loss: 0.0057 - accuracy: 0.9978 - recall_5: 0.9993 - precision_5: 0.9983\n",
      "Epoch 4/10\n",
      "580/580 [==============================] - 2s 3ms/step - loss: 0.0038 - accuracy: 0.9985 - recall_5: 0.9993 - precision_5: 0.9991\n",
      "Epoch 5/10\n",
      "580/580 [==============================] - 2s 3ms/step - loss: 0.0029 - accuracy: 0.9986 - recall_5: 0.9993 - precision_5: 0.9992\n",
      "Epoch 6/10\n",
      "580/580 [==============================] - 2s 3ms/step - loss: 0.0023 - accuracy: 0.9986 - recall_5: 0.9993 - precision_5: 0.9992\n",
      "Epoch 7/10\n",
      "580/580 [==============================] - 2s 3ms/step - loss: 0.0020 - accuracy: 0.9987 - recall_5: 0.9993 - precision_5: 0.9993\n",
      "Epoch 8/10\n",
      "580/580 [==============================] - 2s 3ms/step - loss: 0.0018 - accuracy: 0.9987 - recall_5: 0.9994 - precision_5: 0.9993\n",
      "Epoch 9/10\n",
      "580/580 [==============================] - 2s 3ms/step - loss: 0.0016 - accuracy: 0.9988 - recall_5: 0.9994 - precision_5: 0.9993\n",
      "Epoch 10/10\n",
      "580/580 [==============================] - 2s 3ms/step - loss: 0.0015 - accuracy: 0.9988 - recall_5: 0.9994 - precision_5: 0.9993\n"
     ]
    },
    {
     "data": {
      "text/plain": [
       "<keras.src.callbacks.History at 0x7fd0107be1a0>"
      ]
     },
     "execution_count": 84,
     "metadata": {},
     "output_type": "execute_result"
    }
   ],
   "source": [
    "N2_D2_model.fit(X_N2_D2_train, Y_N2_D2_train, epochs=10, batch_size=1000, verbose=1)"
   ]
  },
  {
   "cell_type": "code",
   "execution_count": 85,
   "id": "f4a8c251",
   "metadata": {},
   "outputs": [
    {
     "name": "stdout",
     "output_type": "stream",
     "text": [
      ">Saved models/model_fed_N2_D2.h5\n"
     ]
    }
   ],
   "source": [
    "filename_N2_D2 = 'models/model_fed_N2_D2.h5'\n",
    "N2_D2_model.save(filename_N2_D2)\n",
    "print('>Saved %s' % filename_N2_D2)"
   ]
  },
  {
   "cell_type": "code",
   "execution_count": 86,
   "id": "cb33c5e8",
   "metadata": {},
   "outputs": [],
   "source": [
    "N2_D3_model = create_linear_model()\n",
    "N2_D3_model.set_weights(global_model.get_weights())"
   ]
  },
  {
   "cell_type": "code",
   "execution_count": 87,
   "id": "633bb01f",
   "metadata": {},
   "outputs": [
    {
     "name": "stdout",
     "output_type": "stream",
     "text": [
      "Epoch 1/10\n",
      "586/586 [==============================] - 3s 3ms/step - loss: 0.0209 - accuracy: 0.9821 - recall_6: 0.9989 - precision_6: 0.9811\n",
      "Epoch 2/10\n",
      "586/586 [==============================] - 2s 4ms/step - loss: 0.0098 - accuracy: 0.9963 - recall_6: 0.9986 - precision_6: 0.9972\n",
      "Epoch 3/10\n",
      "586/586 [==============================] - 2s 4ms/step - loss: 0.0055 - accuracy: 0.9973 - recall_6: 0.9984 - precision_6: 0.9985\n",
      "Epoch 4/10\n",
      "586/586 [==============================] - 2s 4ms/step - loss: 0.0037 - accuracy: 0.9976 - recall_6: 0.9984 - precision_6: 0.9988\n",
      "Epoch 5/10\n",
      "586/586 [==============================] - 2s 4ms/step - loss: 0.0027 - accuracy: 0.9978 - recall_6: 0.9984 - precision_6: 0.9991\n",
      "Epoch 6/10\n",
      "586/586 [==============================] - 2s 4ms/step - loss: 0.0021 - accuracy: 0.9983 - recall_6: 0.9987 - precision_6: 0.9994\n",
      "Epoch 7/10\n",
      "586/586 [==============================] - 2s 4ms/step - loss: 0.0017 - accuracy: 0.9988 - recall_6: 0.9991 - precision_6: 0.9995\n",
      "Epoch 8/10\n",
      "586/586 [==============================] - 2s 4ms/step - loss: 0.0015 - accuracy: 0.9989 - recall_6: 0.9992 - precision_6: 0.9995\n",
      "Epoch 9/10\n",
      "586/586 [==============================] - 2s 4ms/step - loss: 0.0013 - accuracy: 0.9990 - recall_6: 0.9993 - precision_6: 0.9995\n",
      "Epoch 10/10\n",
      "586/586 [==============================] - 2s 4ms/step - loss: 0.0012 - accuracy: 0.9990 - recall_6: 0.9993 - precision_6: 0.9996\n"
     ]
    },
    {
     "data": {
      "text/plain": [
       "<keras.src.callbacks.History at 0x7fd01036e140>"
      ]
     },
     "execution_count": 87,
     "metadata": {},
     "output_type": "execute_result"
    }
   ],
   "source": [
    "N2_D3_model.fit(X_N2_D3_train, Y_N2_D3_train, epochs=10, batch_size=1000, verbose=1)"
   ]
  },
  {
   "cell_type": "code",
   "execution_count": 88,
   "id": "f3c16947",
   "metadata": {},
   "outputs": [
    {
     "name": "stdout",
     "output_type": "stream",
     "text": [
      ">Saved models/model_fed_N2_D3.h5\n"
     ]
    }
   ],
   "source": [
    "filename_N2_D3 = 'models/model_fed_N2_D3.h5'\n",
    "N2_D3_model.save(filename_N2_D3)\n",
    "print('>Saved %s' % filename_N2_D3)"
   ]
  },
  {
   "cell_type": "code",
   "execution_count": 89,
   "id": "138d398d",
   "metadata": {},
   "outputs": [],
   "source": [
    "avg_weights_N2 = []\n",
    "for weights1, weights2, weights3 in zip(N2_D1_model.get_weights(), N2_D2_model.get_weights(), N2_D3_model.get_weights()):\n",
    "    avg_weights_N2.append((weights1 + weights2 + weights3) / 3)"
   ]
  },
  {
   "cell_type": "code",
   "execution_count": 90,
   "id": "fb5a71b7",
   "metadata": {},
   "outputs": [],
   "source": [
    "avg_weights_N1_N2 = []\n",
    "for weights1, weights2 in zip(global_model.get_weights(), avg_weights_N2):\n",
    "    avg_weights_N1_N2.append((weights1 + weights2) / 2)\n",
    "global_model.set_weights(avg_weights_N1_N2)"
   ]
  },
  {
   "cell_type": "code",
   "execution_count": 91,
   "id": "e0bdc306",
   "metadata": {},
   "outputs": [],
   "source": [
    "global_model.set_weights(avg_weights_N1_N2)"
   ]
  },
  {
   "cell_type": "code",
   "execution_count": 92,
   "id": "03da1692",
   "metadata": {},
   "outputs": [],
   "source": [
    "N3_D1_model = create_linear_model()\n",
    "N3_D1_model.set_weights(global_model.get_weights())"
   ]
  },
  {
   "cell_type": "code",
   "execution_count": 93,
   "id": "be443211",
   "metadata": {},
   "outputs": [
    {
     "name": "stdout",
     "output_type": "stream",
     "text": [
      "Epoch 1/10\n",
      "263/263 [==============================] - 2s 3ms/step - loss: 0.0330 - accuracy: 0.9710 - recall_7: 0.9976 - precision_7: 0.9696\n",
      "Epoch 2/10\n",
      "263/263 [==============================] - 1s 4ms/step - loss: 0.0076 - accuracy: 0.9967 - recall_7: 0.9977 - precision_7: 0.9984\n",
      "Epoch 3/10\n",
      "263/263 [==============================] - 1s 4ms/step - loss: 0.0051 - accuracy: 0.9971 - recall_7: 0.9979 - precision_7: 0.9988\n",
      "Epoch 4/10\n",
      "263/263 [==============================] - 1s 4ms/step - loss: 0.0039 - accuracy: 0.9976 - recall_7: 0.9981 - precision_7: 0.9991\n",
      "Epoch 5/10\n",
      "263/263 [==============================] - 1s 4ms/step - loss: 0.0033 - accuracy: 0.9979 - recall_7: 0.9983 - precision_7: 0.9993\n",
      "Epoch 6/10\n",
      "263/263 [==============================] - 1s 3ms/step - loss: 0.0029 - accuracy: 0.9980 - recall_7: 0.9983 - precision_7: 0.9993\n",
      "Epoch 7/10\n",
      "263/263 [==============================] - 1s 4ms/step - loss: 0.0026 - accuracy: 0.9980 - recall_7: 0.9983 - precision_7: 0.9994\n",
      "Epoch 8/10\n",
      "263/263 [==============================] - 1s 4ms/step - loss: 0.0024 - accuracy: 0.9980 - recall_7: 0.9983 - precision_7: 0.9994\n",
      "Epoch 9/10\n",
      "263/263 [==============================] - 1s 4ms/step - loss: 0.0023 - accuracy: 0.9981 - recall_7: 0.9983 - precision_7: 0.9995\n",
      "Epoch 10/10\n",
      "263/263 [==============================] - 1s 4ms/step - loss: 0.0021 - accuracy: 0.9983 - recall_7: 0.9983 - precision_7: 0.9996\n"
     ]
    },
    {
     "data": {
      "text/plain": [
       "<keras.src.callbacks.History at 0x7fcff06129e0>"
      ]
     },
     "execution_count": 93,
     "metadata": {},
     "output_type": "execute_result"
    }
   ],
   "source": [
    "N3_D1_model.fit(X_N3_D1_train, Y_N3_D1_train, epochs=10, batch_size=1000, verbose=1)"
   ]
  },
  {
   "cell_type": "code",
   "execution_count": 94,
   "id": "08a48522",
   "metadata": {},
   "outputs": [
    {
     "name": "stdout",
     "output_type": "stream",
     "text": [
      ">Saved models/model_fed_N3_D1.h5\n"
     ]
    }
   ],
   "source": [
    "filename_N3_D1 = 'models/model_fed_N3_D1.h5'\n",
    "N3_D1_model.save(filename_N3_D1)\n",
    "print('>Saved %s' % filename_N3_D1)"
   ]
  },
  {
   "cell_type": "code",
   "execution_count": 95,
   "id": "e9ce61c8",
   "metadata": {},
   "outputs": [],
   "source": [
    "N3_D2_model = create_linear_model()\n",
    "N3_D2_model.set_weights(global_model.get_weights())"
   ]
  },
  {
   "cell_type": "code",
   "execution_count": 96,
   "id": "279a19fb",
   "metadata": {},
   "outputs": [
    {
     "name": "stdout",
     "output_type": "stream",
     "text": [
      "Epoch 1/10\n",
      "605/605 [==============================] - 3s 4ms/step - loss: 0.0061 - accuracy: 0.9952 - recall_8: 0.9990 - precision_8: 0.9960\n",
      "Epoch 2/10\n",
      "605/605 [==============================] - 2s 4ms/step - loss: 0.0036 - accuracy: 0.9969 - recall_8: 0.9987 - precision_8: 0.9981\n",
      "Epoch 3/10\n",
      "605/605 [==============================] - 2s 4ms/step - loss: 0.0026 - accuracy: 0.9979 - recall_8: 0.9987 - precision_8: 0.9991\n",
      "Epoch 4/10\n",
      "605/605 [==============================] - 2s 4ms/step - loss: 0.0022 - accuracy: 0.9981 - recall_8: 0.9987 - precision_8: 0.9992\n",
      "Epoch 5/10\n",
      "605/605 [==============================] - 2s 4ms/step - loss: 0.0020 - accuracy: 0.9982 - recall_8: 0.9988 - precision_8: 0.9993\n",
      "Epoch 6/10\n",
      "605/605 [==============================] - 2s 4ms/step - loss: 0.0018 - accuracy: 0.9983 - recall_8: 0.9988 - precision_8: 0.9993\n",
      "Epoch 7/10\n",
      "605/605 [==============================] - 2s 4ms/step - loss: 0.0016 - accuracy: 0.9984 - recall_8: 0.9989 - precision_8: 0.9994\n",
      "Epoch 8/10\n",
      "605/605 [==============================] - 2s 4ms/step - loss: 0.0015 - accuracy: 0.9985 - recall_8: 0.9989 - precision_8: 0.9994\n",
      "Epoch 9/10\n",
      "605/605 [==============================] - 2s 4ms/step - loss: 0.0014 - accuracy: 0.9986 - recall_8: 0.9990 - precision_8: 0.9995\n",
      "Epoch 10/10\n",
      "605/605 [==============================] - 2s 4ms/step - loss: 0.0014 - accuracy: 0.9986 - recall_8: 0.9991 - precision_8: 0.9995\n"
     ]
    },
    {
     "data": {
      "text/plain": [
       "<keras.src.callbacks.History at 0x7fcff0486620>"
      ]
     },
     "execution_count": 96,
     "metadata": {},
     "output_type": "execute_result"
    }
   ],
   "source": [
    "N3_D2_model.fit(X_N3_D2_train, Y_N3_D2_train, epochs=10, batch_size=1000, verbose=1)"
   ]
  },
  {
   "cell_type": "code",
   "execution_count": 97,
   "id": "40e71855",
   "metadata": {},
   "outputs": [
    {
     "name": "stdout",
     "output_type": "stream",
     "text": [
      ">Saved models/model_fed_N3_D2.h5\n"
     ]
    }
   ],
   "source": [
    "filename_N3_D2 = 'models/model_fed_N3_D2.h5'\n",
    "N3_D2_model.save(filename_N3_D2)\n",
    "print('>Saved %s' % filename_N3_D2)"
   ]
  },
  {
   "cell_type": "code",
   "execution_count": 98,
   "id": "da8b61c3",
   "metadata": {},
   "outputs": [],
   "source": [
    "N3_D3_model = create_linear_model()\n",
    "N3_D3_model.set_weights(global_model.get_weights())"
   ]
  },
  {
   "cell_type": "code",
   "execution_count": 99,
   "id": "ee69832e",
   "metadata": {},
   "outputs": [
    {
     "name": "stdout",
     "output_type": "stream",
     "text": [
      "Epoch 1/10\n",
      "596/596 [==============================] - 3s 4ms/step - loss: 0.0035 - accuracy: 0.9975 - recall_9: 0.9995 - precision_9: 0.9980\n",
      "Epoch 2/10\n",
      "596/596 [==============================] - 2s 4ms/step - loss: 0.0024 - accuracy: 0.9984 - recall_9: 0.9994 - precision_9: 0.9989\n",
      "Epoch 3/10\n",
      "596/596 [==============================] - 2s 4ms/step - loss: 0.0021 - accuracy: 0.9984 - recall_9: 0.9994 - precision_9: 0.9990\n",
      "Epoch 4/10\n",
      "596/596 [==============================] - 2s 4ms/step - loss: 0.0019 - accuracy: 0.9984 - recall_9: 0.9994 - precision_9: 0.9990\n",
      "Epoch 5/10\n",
      "596/596 [==============================] - 2s 4ms/step - loss: 0.0018 - accuracy: 0.9985 - recall_9: 0.9994 - precision_9: 0.9991\n",
      "Epoch 6/10\n",
      "596/596 [==============================] - 2s 4ms/step - loss: 0.0017 - accuracy: 0.9986 - recall_9: 0.9994 - precision_9: 0.9991\n",
      "Epoch 7/10\n",
      "596/596 [==============================] - 2s 4ms/step - loss: 0.0016 - accuracy: 0.9986 - recall_9: 0.9994 - precision_9: 0.9991\n",
      "Epoch 8/10\n",
      "596/596 [==============================] - 2s 4ms/step - loss: 0.0014 - accuracy: 0.9987 - recall_9: 0.9995 - precision_9: 0.9992\n",
      "Epoch 9/10\n",
      "596/596 [==============================] - 2s 4ms/step - loss: 0.0012 - accuracy: 0.9989 - recall_9: 0.9995 - precision_9: 0.9994\n",
      "Epoch 10/10\n",
      "596/596 [==============================] - 2s 4ms/step - loss: 0.0011 - accuracy: 0.9990 - recall_9: 0.9995 - precision_9: 0.9995\n"
     ]
    },
    {
     "data": {
      "text/plain": [
       "<keras.src.callbacks.History at 0x7fcfc8746710>"
      ]
     },
     "execution_count": 99,
     "metadata": {},
     "output_type": "execute_result"
    }
   ],
   "source": [
    "N3_D3_model.fit(X_N3_D3_train, Y_N3_D3_train, epochs=10, batch_size=1000, verbose=1)"
   ]
  },
  {
   "cell_type": "code",
   "execution_count": 100,
   "id": "8a9c8a05",
   "metadata": {},
   "outputs": [
    {
     "name": "stdout",
     "output_type": "stream",
     "text": [
      ">Saved models/model_fed_N3_D3.h5\n"
     ]
    }
   ],
   "source": [
    "filename_N3_D3 = 'models/model_fed_N3_D3.h5'\n",
    "N3_D3_model.save(filename_N3_D3)\n",
    "print('>Saved %s' % filename_N3_D3)"
   ]
  },
  {
   "cell_type": "code",
   "execution_count": 101,
   "id": "d5e88dd0",
   "metadata": {},
   "outputs": [],
   "source": [
    "avg_weights_N3 = []\n",
    "for weights1, weights2, weights3 in zip(N3_D1_model.get_weights(), N3_D2_model.get_weights(), N3_D3_model.get_weights()):\n",
    "    avg_weights_N3.append((weights1 + weights2 + weights3) / 3)"
   ]
  },
  {
   "cell_type": "code",
   "execution_count": 102,
   "id": "d510d8dc",
   "metadata": {},
   "outputs": [],
   "source": [
    "avg_weights_N1_N2_N3 = []\n",
    "for weights1, weights2 in zip(global_model.get_weights(), avg_weights_N3):\n",
    "    avg_weights_N1_N2_N3.append((weights1 + weights2) / 2)\n",
    "global_model.set_weights(avg_weights_N1_N2_N3)"
   ]
  },
  {
   "cell_type": "code",
   "execution_count": 103,
   "id": "1aca8cb0",
   "metadata": {},
   "outputs": [],
   "source": [
    "global_model.set_weights(avg_weights_N1_N2_N3)"
   ]
  },
  {
   "cell_type": "code",
   "execution_count": 108,
   "id": "bf9c34aa",
   "metadata": {},
   "outputs": [
    {
     "name": "stdout",
     "output_type": "stream",
     "text": [
      "9547/9547 [==============================] - 19s 2ms/step - loss: 0.0048 - accuracy: 0.9942 - recall: 0.9943 - precision: 0.9995\n",
      "Test loss: 0.004786463920027018\n",
      "Test accuracy: 0.9941504001617432\n",
      "Test recall: 0.9943305850028992\n",
      "Test precision: 0.9995155930519104\n"
     ]
    }
   ],
   "source": [
    "score_glob_N1_D1 = global_model.evaluate(X_N1_D1_test, Y_N1_D1_test, verbose=1) \n",
    "\n",
    "print('Test loss:', score_glob_N1_D1[0]) \n",
    "print('Test accuracy:', score_glob_N1_D1[1])\n",
    "print('Test recall:', score_glob_N1_D1[2]) \n",
    "print('Test precision:', score_glob_N1_D1[3])"
   ]
  },
  {
   "cell_type": "code",
   "execution_count": 109,
   "id": "cc52ec94",
   "metadata": {},
   "outputs": [
    {
     "name": "stdout",
     "output_type": "stream",
     "text": [
      "7837/7837 [==============================] - 16s 2ms/step - loss: 0.0046 - accuracy: 0.9966 - recall: 0.9995 - precision: 0.9971\n",
      "Test loss: 0.004570009186863899\n",
      "Test accuracy: 0.9966143369674683\n",
      "Test recall: 0.9994611740112305\n",
      "Test precision: 0.9971061944961548\n"
     ]
    }
   ],
   "source": [
    "score_glob_N1_D2 = global_model.evaluate(X_N1_D2_test, Y_N1_D2_test, verbose=1) \n",
    "\n",
    "print('Test loss:', score_glob_N1_D2[0]) \n",
    "print('Test accuracy:', score_glob_N1_D2[1])\n",
    "print('Test recall:', score_glob_N1_D2[2]) \n",
    "print('Test precision:', score_glob_N1_D2[3])"
   ]
  },
  {
   "cell_type": "code",
   "execution_count": 110,
   "id": "148b38e3",
   "metadata": {},
   "outputs": [
    {
     "name": "stdout",
     "output_type": "stream",
     "text": [
      "3333/3333 [==============================] - 7s 2ms/step - loss: 0.0522 - accuracy: 0.9381 - recall: 0.9977 - precision: 0.9367\n",
      "Test loss: 0.052206918597221375\n",
      "Test accuracy: 0.9380778074264526\n",
      "Test recall: 0.9976781010627747\n",
      "Test precision: 0.9367388486862183\n"
     ]
    }
   ],
   "source": [
    "score_glob_N1_D3 = global_model.evaluate(X_N1_D3_test, Y_N1_D3_test, verbose=1) \n",
    "\n",
    "print('Test loss:', score_glob_N1_D3[0]) \n",
    "print('Test accuracy:', score_glob_N1_D3[1])\n",
    "print('Test recall:', score_glob_N1_D3[2]) \n",
    "print('Test precision:', score_glob_N1_D3[3])"
   ]
  },
  {
   "cell_type": "code",
   "execution_count": 111,
   "id": "b8913394",
   "metadata": {},
   "outputs": [
    {
     "name": "stdout",
     "output_type": "stream",
     "text": [
      "10301/10301 [==============================] - 21s 2ms/step - loss: 0.0113 - accuracy: 0.9929 - recall: 0.9996 - precision: 0.9920\n",
      "Test loss: 0.011302800849080086\n",
      "Test accuracy: 0.9929339289665222\n",
      "Test recall: 0.9996461272239685\n",
      "Test precision: 0.9920049905776978\n"
     ]
    }
   ],
   "source": [
    "score_glob_N2_D1 = global_model.evaluate(X_N2_D1_test, Y_N2_D1_test, verbose=1) \n",
    "\n",
    "print('Test loss:', score_glob_N2_D1[0]) \n",
    "print('Test accuracy:', score_glob_N2_D1[1])\n",
    "print('Test recall:', score_glob_N2_D1[2]) \n",
    "print('Test precision:', score_glob_N2_D1[3])"
   ]
  },
  {
   "cell_type": "code",
   "execution_count": 112,
   "id": "29d9b18d",
   "metadata": {},
   "outputs": [
    {
     "name": "stdout",
     "output_type": "stream",
     "text": [
      "7765/7765 [==============================] - 17s 2ms/step - loss: 0.0043 - accuracy: 0.9982 - recall: 0.9994 - precision: 0.9986\n",
      "Test loss: 0.004293304402381182\n",
      "Test accuracy: 0.9982050657272339\n",
      "Test recall: 0.9994385242462158\n",
      "Test precision: 0.9986213445663452\n"
     ]
    }
   ],
   "source": [
    "score_glob_N2_D2 = global_model.evaluate(X_N2_D2_test, Y_N2_D2_test, verbose=1) \n",
    "\n",
    "print('Test loss:', score_glob_N2_D2[0]) \n",
    "print('Test accuracy:', score_glob_N2_D2[1])\n",
    "print('Test recall:', score_glob_N2_D2[2]) \n",
    "print('Test precision:', score_glob_N2_D2[3])"
   ]
  },
  {
   "cell_type": "code",
   "execution_count": 113,
   "id": "8ce7415f",
   "metadata": {},
   "outputs": [
    {
     "name": "stdout",
     "output_type": "stream",
     "text": [
      "7846/7846 [==============================] - 16s 2ms/step - loss: 0.0073 - accuracy: 0.9964 - recall: 0.9994 - precision: 0.9966\n",
      "Test loss: 0.007324627600610256\n",
      "Test accuracy: 0.9964073300361633\n",
      "Test recall: 0.9993817806243896\n",
      "Test precision: 0.9965576529502869\n"
     ]
    }
   ],
   "source": [
    "score_glob_N2_D3 = global_model.evaluate(X_N2_D3_test, Y_N2_D3_test, verbose=1) \n",
    "\n",
    "print('Test loss:', score_glob_N2_D3[0]) \n",
    "print('Test accuracy:', score_glob_N2_D3[1])\n",
    "print('Test recall:', score_glob_N2_D3[2]) \n",
    "print('Test precision:', score_glob_N2_D3[3])"
   ]
  },
  {
   "cell_type": "code",
   "execution_count": 114,
   "id": "bfd8969e",
   "metadata": {},
   "outputs": [
    {
     "name": "stdout",
     "output_type": "stream",
     "text": [
      "3518/3518 [==============================] - 7s 2ms/step - loss: 0.0797 - accuracy: 0.9145 - recall: 0.9979 - precision: 0.9111\n",
      "Test loss: 0.07969046384096146\n",
      "Test accuracy: 0.9144598245620728\n",
      "Test recall: 0.9979135990142822\n",
      "Test precision: 0.9111021161079407\n"
     ]
    }
   ],
   "source": [
    "score_glob_N3_D1 = global_model.evaluate(X_N3_D1_test, Y_N3_D1_test, verbose=1) \n",
    "\n",
    "print('Test loss:', score_glob_N3_D1[0]) \n",
    "print('Test accuracy:', score_glob_N3_D1[1])\n",
    "print('Test recall:', score_glob_N3_D1[2]) \n",
    "print('Test precision:', score_glob_N3_D1[3])"
   ]
  },
  {
   "cell_type": "code",
   "execution_count": 115,
   "id": "a74c068f",
   "metadata": {},
   "outputs": [
    {
     "name": "stdout",
     "output_type": "stream",
     "text": [
      "8092/8092 [==============================] - 17s 2ms/step - loss: 0.0075 - accuracy: 0.9941 - recall: 0.9995 - precision: 0.9943\n",
      "Test loss: 0.007511145435273647\n",
      "Test accuracy: 0.9940946102142334\n",
      "Test recall: 0.999468982219696\n",
      "Test precision: 0.9943150877952576\n"
     ]
    }
   ],
   "source": [
    "score_glob_N3_D2 = global_model.evaluate(X_N3_D2_test, Y_N3_D2_test, verbose=1) \n",
    "\n",
    "print('Test loss:', score_glob_N3_D2[0]) \n",
    "print('Test accuracy:', score_glob_N3_D2[1])\n",
    "print('Test recall:', score_glob_N3_D2[2]) \n",
    "print('Test precision:', score_glob_N3_D2[3])"
   ]
  },
  {
   "cell_type": "code",
   "execution_count": 116,
   "id": "4c611369",
   "metadata": {},
   "outputs": [
    {
     "name": "stdout",
     "output_type": "stream",
     "text": [
      "7977/7977 [==============================] - 15s 2ms/step - loss: 0.0065 - accuracy: 0.9961 - recall: 0.9981 - precision: 0.9979\n",
      "Test loss: 0.006494842004030943\n",
      "Test accuracy: 0.9961018562316895\n",
      "Test recall: 0.9981191754341125\n",
      "Test precision: 0.9978910684585571\n"
     ]
    }
   ],
   "source": [
    "score_glob_N3_D3 = global_model.evaluate(X_N3_D3_test, Y_N3_D3_test, verbose=1) \n",
    "\n",
    "print('Test loss:', score_glob_N3_D3[0]) \n",
    "print('Test accuracy:', score_glob_N3_D3[1])\n",
    "print('Test recall:', score_glob_N3_D3[2]) \n",
    "print('Test precision:', score_glob_N3_D3[3])"
   ]
  },
  {
   "cell_type": "code",
   "execution_count": null,
   "id": "099f2890",
   "metadata": {},
   "outputs": [],
   "source": []
  }
 ],
 "metadata": {
  "kernelspec": {
   "display_name": "Python 3 (ipykernel)",
   "language": "python",
   "name": "python3"
  },
  "language_info": {
   "codemirror_mode": {
    "name": "ipython",
    "version": 3
   },
   "file_extension": ".py",
   "mimetype": "text/x-python",
   "name": "python",
   "nbconvert_exporter": "python",
   "pygments_lexer": "ipython3",
   "version": "3.10.12"
  }
 },
 "nbformat": 4,
 "nbformat_minor": 5
}
